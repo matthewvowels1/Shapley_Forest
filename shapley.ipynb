{
 "cells": [
  {
   "cell_type": "code",
   "execution_count": 1,
   "metadata": {},
   "outputs": [],
   "source": [
    "import pandas as pd\n",
    "import numpy as np\n",
    "import matplotlib.pyplot as plt\n",
    "import os\n",
    "from RF_Shap import RFShap\n",
    "import time\n"
   ]
  },
  {
   "cell_type": "code",
   "execution_count": 2,
   "metadata": {},
   "outputs": [
    {
     "data": {
      "text/html": [
       "<div>\n",
       "<style scoped>\n",
       "    .dataframe tbody tr th:only-of-type {\n",
       "        vertical-align: middle;\n",
       "    }\n",
       "\n",
       "    .dataframe tbody tr th {\n",
       "        vertical-align: top;\n",
       "    }\n",
       "\n",
       "    .dataframe thead th {\n",
       "        text-align: right;\n",
       "    }\n",
       "</style>\n",
       "<table border=\"1\" class=\"dataframe\">\n",
       "  <thead>\n",
       "    <tr style=\"text-align: right;\">\n",
       "      <th></th>\n",
       "      <th>age</th>\n",
       "      <th>children</th>\n",
       "      <th>male</th>\n",
       "      <th>female</th>\n",
       "      <th>ftm</th>\n",
       "      <th>mtf</th>\n",
       "      <th>straight</th>\n",
       "      <th>gay</th>\n",
       "      <th>lesbian</th>\n",
       "    </tr>\n",
       "  </thead>\n",
       "  <tbody>\n",
       "    <tr>\n",
       "      <th>0</th>\n",
       "      <td>30.0</td>\n",
       "      <td>0.0</td>\n",
       "      <td>0.0</td>\n",
       "      <td>1.0</td>\n",
       "      <td>0.0</td>\n",
       "      <td>0.0</td>\n",
       "      <td>0.0</td>\n",
       "      <td>0.0</td>\n",
       "      <td>0.0</td>\n",
       "    </tr>\n",
       "    <tr>\n",
       "      <th>1</th>\n",
       "      <td>32.0</td>\n",
       "      <td>0.0</td>\n",
       "      <td>2.0</td>\n",
       "      <td>0.0</td>\n",
       "      <td>0.0</td>\n",
       "      <td>0.0</td>\n",
       "      <td>1.0</td>\n",
       "      <td>0.0</td>\n",
       "      <td>0.0</td>\n",
       "    </tr>\n",
       "    <tr>\n",
       "      <th>2</th>\n",
       "      <td>23.0</td>\n",
       "      <td>0.0</td>\n",
       "      <td>1.0</td>\n",
       "      <td>0.0</td>\n",
       "      <td>0.0</td>\n",
       "      <td>0.0</td>\n",
       "      <td>0.0</td>\n",
       "      <td>1.0</td>\n",
       "      <td>0.0</td>\n",
       "    </tr>\n",
       "    <tr>\n",
       "      <th>3</th>\n",
       "      <td>31.0</td>\n",
       "      <td>0.0</td>\n",
       "      <td>2.0</td>\n",
       "      <td>0.0</td>\n",
       "      <td>0.0</td>\n",
       "      <td>0.0</td>\n",
       "      <td>0.0</td>\n",
       "      <td>0.0</td>\n",
       "      <td>0.0</td>\n",
       "    </tr>\n",
       "    <tr>\n",
       "      <th>4</th>\n",
       "      <td>14.0</td>\n",
       "      <td>0.0</td>\n",
       "      <td>1.0</td>\n",
       "      <td>0.0</td>\n",
       "      <td>0.0</td>\n",
       "      <td>1.0</td>\n",
       "      <td>0.0</td>\n",
       "      <td>1.0</td>\n",
       "      <td>0.0</td>\n",
       "    </tr>\n",
       "  </tbody>\n",
       "</table>\n",
       "</div>"
      ],
      "text/plain": [
       "    age  children  male  female  ftm  mtf  straight  gay  lesbian\n",
       "0  30.0       0.0   0.0     1.0  0.0  0.0       0.0  0.0      0.0\n",
       "1  32.0       0.0   2.0     0.0  0.0  0.0       1.0  0.0      0.0\n",
       "2  23.0       0.0   1.0     0.0  0.0  0.0       0.0  1.0      0.0\n",
       "3  31.0       0.0   2.0     0.0  0.0  0.0       0.0  0.0      0.0\n",
       "4  14.0       0.0   1.0     0.0  0.0  1.0       0.0  1.0      0.0"
      ]
     },
     "execution_count": 2,
     "metadata": {},
     "output_type": "execute_result"
    }
   ],
   "source": [
    "data_dir = '/home/matthewvowels/GitHub/Psych_ML/Shapley_Forest/'\n",
    "file = 'simple_dataset.csv'\n",
    "\n",
    "dataset = pd.read_csv(os.path.join(data_dir, file), delim_whitespace=False)\n",
    "cols = dataset.columns\n",
    "\n",
    "dataset = dataset.iloc[:100]\n",
    "\n",
    "# make it a multiclass problem by hypothetically extending 'male' var to have three genders\n",
    "dataset['male'] = dataset.male + np.random.randint(2, size=(len(dataset)))\n",
    "dataset.head()"
   ]
  },
  {
   "cell_type": "code",
   "execution_count": 8,
   "metadata": {},
   "outputs": [
    {
     "name": "stdout",
     "output_type": "stream",
     "text": [
      "Preparing dataset...\n",
      "Check if continuous or categorical variables: \n",
      "{'age': False, 'children': True, 'male': True, 'female': True, 'ftm': True, 'mtf': True, 'straight': True, 'gay': True, 'lesbian': True}\n"
     ]
    }
   ],
   "source": [
    "od = '/home/matthewvowels/GitHub/Psych_ML/Shapley_Forest/output'\n",
    "model_dir = '/home/matthewvowels/GitHub/Psych_ML/Shapley_Forest/output/model.sav'\n",
    "\n",
    "# Created RFShap Class/environment:\n",
    "shap_env = RFShap(model_dir=model_dir, exclude_vars=None, outcome_var='age',\n",
    "                  output_dir=od, random_seed=42, class_='RF',type_='reg', balanced='balanced',\n",
    "                 trn_tst_split=0.6, k_cv='k_fold', k=5)\n",
    "\n",
    "# Feed in desired dataset. This removes exclude_vars, and splits into X, y,\n",
    "# as well as making train test splits\n",
    "dataset, X, y, xtr, xts, ytr, ytst  = shap_env.munch(dataset=dataset)\n"
   ]
  },
  {
   "cell_type": "code",
   "execution_count": 9,
   "metadata": {},
   "outputs": [
    {
     "name": "stdout",
     "output_type": "stream",
     "text": [
      "Creating fresh model...\n",
      "WARNING: balanced regressor not applicable\n",
      "Created:  RandomForestRegressor(n_estimators=200, oob_score=True)\n",
      "Training fold:  1\n",
      "Creating fresh model...\n",
      "WARNING: balanced regressor not applicable\n",
      "Created:  RandomForestRegressor(n_estimators=200, oob_score=True)\n",
      "Training fold:  2\n",
      "Creating fresh model...\n",
      "WARNING: balanced regressor not applicable\n",
      "Created:  RandomForestRegressor(n_estimators=200, oob_score=True)\n"
     ]
    },
    {
     "name": "stderr",
     "output_type": "stream",
     "text": [
      "Setting a random_state has no effect since shuffle is False. This will raise an error in 0.24. You should leave random_state to its default (None), or set shuffle=True.\n"
     ]
    },
    {
     "name": "stdout",
     "output_type": "stream",
     "text": [
      "Training fold:  3\n",
      "Creating fresh model...\n",
      "WARNING: balanced regressor not applicable\n",
      "Created:  RandomForestRegressor(n_estimators=200, oob_score=True)\n",
      "Training fold:  4\n",
      "Creating fresh model...\n",
      "WARNING: balanced regressor not applicable\n",
      "Created:  RandomForestRegressor(n_estimators=200, oob_score=True)\n",
      "Training fold:  5\n",
      "Creating fresh model...\n",
      "WARNING: balanced regressor not applicable\n",
      "Created:  RandomForestRegressor(n_estimators=200, oob_score=True)\n",
      "Last row is the mean across columns.\n"
     ]
    }
   ],
   "source": [
    "# here is a list of possible config settings for each classifier (we are using config_cls for \n",
    "# a random forest classifier)\n",
    "\n",
    "config_reg = {'n_estimators': 200, 'criterion': 'mse', 'max_depth': None, 'min_samples_split': 2,\n",
    "          'min_samples_leaf': 1, 'min_weight_fraction_leaf': 0.0, 'max_features': 'auto',\n",
    "          'max_leaf_nodes': None, 'min_impurity_decrease': 0.0, 'min_impurity_split': None,\n",
    "          'bootstrap': True, 'oob_score': True, 'n_jobs': None, 'random_state': None, \n",
    "          'verbose': 0, 'warm_start': False, 'max_samples': None}\n",
    "\n",
    "config_cls = {'n_estimators': 200, 'max_depth': None, 'min_samples_split': 2,\n",
    "          'min_samples_leaf': 1, 'min_weight_fraction_leaf': 0.0, 'max_features': 'auto',\n",
    "          'max_leaf_nodes': None, 'min_impurity_decrease': 0.0, \n",
    "          'bootstrap': True, 'oob_score': True, 'n_jobs': None, 'random_state': None, \n",
    "          'verbose': 0, 'warm_start': False, 'max_samples': None}\n",
    "\n",
    "config_linreg = {'fit_intercept': True, 'normalize': False, 'n_jobs': None}\n",
    "\n",
    "\n",
    "config_logreg = {'penalty': 'l2', 'dual': False, 'tol': 1e-4, 'C': 1.0, 'fit_intercept': True,\n",
    "                'intercept_scaling': 1.0, 'solver': 'lbfgs', 'class_weight': None, 'max_iter': 100, 'multi_class': 'auto',\n",
    "                'verbose': 0, 'n_jobs': None}\n",
    "\n",
    "\n",
    "# init a model with the config settings:\n",
    "model = shap_env.make_model(config=config_cls)\n",
    "\n",
    "# # decide one some tunable parameters (we are using tunable_params_rf because we have a RF classifier)\n",
    "# tunable_params_rf = ['n_estimators', 'max_depth', 'max_features']\n",
    "# tunable_params_linreg = ['normalize', 'fit_intercept']\n",
    "# tunable_params_logreg = ['penalty', 'dual', 'tol', 'C', 'fit_intercept', 'solver', 'max_iter']\n",
    "\n",
    "# # tunable_params_rf = ['max_depth'] \n",
    "# # identify some good hyperparameters by doing a random search:\n",
    "# tuned_model = shap_env.tune_model(tunable_params=tunable_params_rf, folds=5, n_iter=100) \n",
    "\n",
    "# now we need to train the model:\n",
    "model, report = shap_env.train_test()\n",
    "\n",
    "# models can be saved and loaded like this (it uses the previously set model_dir, but you can\n",
    "# also set a new one as an arugment if you wish!)\n",
    "shap_env.save_model()\n",
    "model = shap_env.load_model()"
   ]
  },
  {
   "cell_type": "code",
   "execution_count": 10,
   "metadata": {},
   "outputs": [
    {
     "name": "stdout",
     "output_type": "stream",
     "text": [
      "Running Shap Explainer.\n"
     ]
    },
    {
     "name": "stderr",
     "output_type": "stream",
     "text": [
      "model_output = \"margin\" has been renamed to model_output = \"raw\"\n",
      "Setting feature_perturbation = \"tree_path_dependent\" because no background data was given.\n"
     ]
    }
   ],
   "source": [
    "# now we have a trained model with reasonably good training parameters we can do some interpretation\n",
    "# this first bit creates and saves the output of the Shap explainer:\n",
    "explainer, shap_vals = shap_env.run_shap_explainer(model=model)"
   ]
  },
  {
   "cell_type": "code",
   "execution_count": 13,
   "metadata": {},
   "outputs": [
    {
     "data": {
      "image/png": "[encoded data removed]",
      "text/plain": [
       "<Figure size 864x864 with 1 Axes>"
      ]
     },
     "metadata": {
      "needs_background": "light"
     },
     "output_type": "display_data"
    },
    {
     "data": {
      "image/png": "[encoded data removed]",
      "text/plain": [
       "<Figure size 540x360 with 2 Axes>"
      ]
     },
     "metadata": {
      "needs_background": "light"
     },
     "output_type": "display_data"
    },
    {
     "data": {
      "image/png": "[encoded data removed]",
      "text/plain": [
       "<Figure size 576x338.4 with 1 Axes>"
      ]
     },
     "metadata": {
      "needs_background": "light"
     },
     "output_type": "display_data"
    },
    {
     "data": {
      "image/png": "[encoded data removed]",
      "text/plain": [
       "<Figure size 576x338.4 with 2 Axes>"
      ]
     },
     "metadata": {
      "needs_background": "light"
     },
     "output_type": "display_data"
    }
   ],
   "source": [
    "specific_var = None\n",
    "num_disp = 10  # plots the top `num_disp' features\n",
    "interaction_vars = ['ftm', 'mtf']\n",
    "# to create plots (and automatrically save them to the output directory):\n",
    "interaction_vals = shap_env.shap_plot(explainer=explainer, shap_vals=shap_vals, specific_var=specific_var, interactions=True, interaction_vars=interaction_vars, classwise=True, class_ind=1, num_display=num_disp)             \n"
   ]
  },
  {
   "cell_type": "code",
   "execution_count": null,
   "metadata": {},
   "outputs": [],
   "source": [
    "        "
   ]
  },
  {
   "cell_type": "code",
   "execution_count": null,
   "metadata": {},
   "outputs": [],
   "source": []
  },
  {
   "cell_type": "code",
   "execution_count": null,
   "metadata": {},
   "outputs": [],
   "source": []
  },
  {
   "cell_type": "code",
   "execution_count": null,
   "metadata": {},
   "outputs": [],
   "source": []
  },
  {
   "cell_type": "code",
   "execution_count": null,
   "metadata": {},
   "outputs": [],
   "source": []
  },
  {
   "cell_type": "code",
   "execution_count": null,
   "metadata": {},
   "outputs": [],
   "source": []
  },
  {
   "cell_type": "code",
   "execution_count": null,
   "metadata": {},
   "outputs": [],
   "source": []
  },
  {
   "cell_type": "code",
   "execution_count": null,
   "metadata": {},
   "outputs": [],
   "source": []
  },
  {
   "cell_type": "code",
   "execution_count": null,
   "metadata": {},
   "outputs": [],
   "source": []
  },
  {
   "cell_type": "code",
   "execution_count": null,
   "metadata": {},
   "outputs": [],
   "source": []
  },
  {
   "cell_type": "code",
   "execution_count": null,
   "metadata": {},
   "outputs": [],
   "source": []
  },
  {
   "cell_type": "code",
   "execution_count": null,
   "metadata": {},
   "outputs": [],
   "source": []
  }
 ],
 "metadata": {
  "kernelspec": {
   "display_name": "Python 3",
   "language": "python",
   "name": "python3"
  },
  "language_info": {
   "codemirror_mode": {
    "name": "ipython",
    "version": 3
   },
   "file_extension": ".py",
   "mimetype": "text/x-python",
   "name": "python",
   "nbconvert_exporter": "python",
   "pygments_lexer": "ipython3",
   "version": "3.7.6"
  }
 },
 "nbformat": 4,
 "nbformat_minor": 4
}
