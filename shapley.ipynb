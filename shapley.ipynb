{
 "cells": [
  {
   "cell_type": "code",
   "execution_count": 1,
   "metadata": {},
   "outputs": [],
   "source": [
    "import pandas as pd\n",
    "import numpy as np\n",
    "import matplotlib.pyplot as plt\n",
    "import os\n",
    "from RF_Shap import RFShap"
   ]
  },
  {
   "cell_type": "code",
   "execution_count": 2,
   "metadata": {},
   "outputs": [
    {
     "data": {
      "text/html": [
       "<div>\n",
       "<style scoped>\n",
       "    .dataframe tbody tr th:only-of-type {\n",
       "        vertical-align: middle;\n",
       "    }\n",
       "\n",
       "    .dataframe tbody tr th {\n",
       "        vertical-align: top;\n",
       "    }\n",
       "\n",
       "    .dataframe thead th {\n",
       "        text-align: right;\n",
       "    }\n",
       "</style>\n",
       "<table border=\"1\" class=\"dataframe\">\n",
       "  <thead>\n",
       "    <tr style=\"text-align: right;\">\n",
       "      <th></th>\n",
       "      <th>age</th>\n",
       "      <th>children</th>\n",
       "      <th>male</th>\n",
       "      <th>female</th>\n",
       "      <th>ftm</th>\n",
       "      <th>mtf</th>\n",
       "      <th>straight</th>\n",
       "      <th>gay</th>\n",
       "      <th>lesbian</th>\n",
       "    </tr>\n",
       "  </thead>\n",
       "  <tbody>\n",
       "    <tr>\n",
       "      <th>0</th>\n",
       "      <td>30.0</td>\n",
       "      <td>0.0</td>\n",
       "      <td>1.0</td>\n",
       "      <td>1.0</td>\n",
       "      <td>0.0</td>\n",
       "      <td>0.0</td>\n",
       "      <td>0.0</td>\n",
       "      <td>0.0</td>\n",
       "      <td>0.0</td>\n",
       "    </tr>\n",
       "    <tr>\n",
       "      <th>1</th>\n",
       "      <td>32.0</td>\n",
       "      <td>0.0</td>\n",
       "      <td>1.0</td>\n",
       "      <td>0.0</td>\n",
       "      <td>0.0</td>\n",
       "      <td>0.0</td>\n",
       "      <td>1.0</td>\n",
       "      <td>0.0</td>\n",
       "      <td>0.0</td>\n",
       "    </tr>\n",
       "    <tr>\n",
       "      <th>2</th>\n",
       "      <td>23.0</td>\n",
       "      <td>0.0</td>\n",
       "      <td>2.0</td>\n",
       "      <td>0.0</td>\n",
       "      <td>0.0</td>\n",
       "      <td>0.0</td>\n",
       "      <td>0.0</td>\n",
       "      <td>1.0</td>\n",
       "      <td>0.0</td>\n",
       "    </tr>\n",
       "    <tr>\n",
       "      <th>3</th>\n",
       "      <td>31.0</td>\n",
       "      <td>0.0</td>\n",
       "      <td>1.0</td>\n",
       "      <td>0.0</td>\n",
       "      <td>0.0</td>\n",
       "      <td>0.0</td>\n",
       "      <td>0.0</td>\n",
       "      <td>0.0</td>\n",
       "      <td>0.0</td>\n",
       "    </tr>\n",
       "    <tr>\n",
       "      <th>4</th>\n",
       "      <td>14.0</td>\n",
       "      <td>0.0</td>\n",
       "      <td>1.0</td>\n",
       "      <td>0.0</td>\n",
       "      <td>0.0</td>\n",
       "      <td>1.0</td>\n",
       "      <td>0.0</td>\n",
       "      <td>1.0</td>\n",
       "      <td>0.0</td>\n",
       "    </tr>\n",
       "  </tbody>\n",
       "</table>\n",
       "</div>"
      ],
      "text/plain": [
       "    age  children  male  female  ftm  mtf  straight  gay  lesbian\n",
       "0  30.0       0.0   1.0     1.0  0.0  0.0       0.0  0.0      0.0\n",
       "1  32.0       0.0   1.0     0.0  0.0  0.0       1.0  0.0      0.0\n",
       "2  23.0       0.0   2.0     0.0  0.0  0.0       0.0  1.0      0.0\n",
       "3  31.0       0.0   1.0     0.0  0.0  0.0       0.0  0.0      0.0\n",
       "4  14.0       0.0   1.0     0.0  0.0  1.0       0.0  1.0      0.0"
      ]
     },
     "execution_count": 2,
     "metadata": {},
     "output_type": "execute_result"
    }
   ],
   "source": [
    "data_dir = '/home/matthewvowels/GitHub/Psych_ML/Shapley_Forest/'\n",
    "file = 'simple_dataset.csv'\n",
    "\n",
    "dataset = pd.read_csv(os.path.join(data_dir, file), delim_whitespace=False)\n",
    "cols = dataset.columns\n",
    "\n",
    "dataset = dataset.iloc[:100]\n",
    "dataset['male'] = dataset.male + np.random.randint(2, size=(len(dataset)))\n",
    "dataset.head()"
   ]
  },
  {
   "cell_type": "code",
   "execution_count": 3,
   "metadata": {},
   "outputs": [
    {
     "name": "stdout",
     "output_type": "stream",
     "text": [
      "Preparing dataset...\n"
     ]
    }
   ],
   "source": [
    "od = '/home/matthewvowels/GitHub/Psych_ML/Shapley_Forest/output'\n",
    "model_dir = '/home/matthewvowels/GitHub/Psych_ML/Shapley_Forest/output/model.sav'\n",
    "\n",
    "# Created RFShap Class/environment:\n",
    "shap_env = RFShap(model_dir=model_dir, exclude_vars=None, outcome_var='male',\n",
    "                  output_dir=od, random_seed=42, class_='RF',type_='cls', balanced='balanced',\n",
    "                 trn_tst_split=0.6, k_cv='split', k=5)\n",
    "\n",
    "# Feed in desired dataset. This removes exclude_vars, and splits into X, y,\n",
    "# as well as making train test splits\n",
    "dataset, X, y, xtr, xts, ytr, ytst  = shap_env.munch(dataset=dataset)"
   ]
  },
  {
   "cell_type": "code",
   "execution_count": 4,
   "metadata": {},
   "outputs": [
    {
     "name": "stdout",
     "output_type": "stream",
     "text": [
      "Creating fresh model...\n",
      "Created:  BalancedRandomForestClassifier(n_estimators=200, oob_score=True)\n",
      "Tuning the following parameters:  ['n_estimators', 'max_depth', 'max_features']\n",
      "Creating fresh model...\n",
      "Created:  BalancedRandomForestClassifier()\n",
      "Fitting 5 folds for each of 100 candidates, totalling 500 fits\n"
     ]
    },
    {
     "name": "stderr",
     "output_type": "stream",
     "text": [
      "[Parallel(n_jobs=-1)]: Using backend LokyBackend with 16 concurrent workers.\n",
      "[Parallel(n_jobs=-1)]: Done   9 tasks      | elapsed:    4.1s\n",
      "[Parallel(n_jobs=-1)]: Done 130 tasks      | elapsed:   25.7s\n",
      "[Parallel(n_jobs=-1)]: Done 333 tasks      | elapsed:  1.1min\n",
      "[Parallel(n_jobs=-1)]: Done 500 out of 500 | elapsed:  1.6min finished\n",
      "A column-vector y was passed when a 1d array was expected. Please change the shape of y to (n_samples,), for example using ravel().\n"
     ]
    },
    {
     "name": "stdout",
     "output_type": "stream",
     "text": [
      "best params are:  {'n_estimators': 50, 'max_features': 'sqrt', 'max_depth': 10}\n",
      "Creating fresh model...\n",
      "Created:  BalancedRandomForestClassifier(max_depth=10, max_features='sqrt',\n",
      "                               n_estimators=50)\n",
      "Accuracy: 40.0%\n"
     ]
    }
   ],
   "source": [
    "# here is a list of possible config settings for each classifier (we are using config_cls for \n",
    "# a random forest classifier)\n",
    "\n",
    "config_reg = {'n_estimators': 200, 'criterion': 'mse', 'max_depth': None, 'min_samples_split': 2,\n",
    "          'min_samples_leaf': 1, 'min_weight_fraction_leaf': 0.0, 'max_features': 'auto',\n",
    "          'max_leaf_nodes': None, 'min_impurity_decrease': 0.0, 'min_impurity_split': None,\n",
    "          'bootstrap': True, 'oob_score': True, 'n_jobs': None, 'random_state': None, \n",
    "          'verbose': 0, 'warm_start': False, 'max_samples': None}\n",
    "\n",
    "config_cls = {'n_estimators': 200, 'max_depth': None, 'min_samples_split': 2,\n",
    "          'min_samples_leaf': 1, 'min_weight_fraction_leaf': 0.0, 'max_features': 'auto',\n",
    "          'max_leaf_nodes': None, 'min_impurity_decrease': 0.0, \n",
    "          'bootstrap': True, 'oob_score': True, 'n_jobs': None, 'random_state': None, \n",
    "          'verbose': 0, 'warm_start': False, 'max_samples': None}\n",
    "\n",
    "config_linreg = {'fit_intercept': True, 'normalize': False, 'n_jobs': None}\n",
    "\n",
    "\n",
    "config_logreg = {'penalty': 'l2', 'dual': False, 'tol': 1e-4, 'C': 1.0, 'fit_intercept': True,\n",
    "                'intercept_scaling': 1.0, 'solver': 'lbfgs', 'class_weight': None, 'max_iter': 100, 'multi_class': 'auto',\n",
    "                'verbose': 0, 'n_jobs': None}\n",
    "\n",
    "\n",
    "# init a model with the config settings:\n",
    "model = shap_env.make_model(config=config_cls)\n",
    "\n",
    "# decide one some tunable parameters (we are using tunable_params_rf because we have a RF classifier)\n",
    "tunable_params_rf = ['n_estimators', 'max_depth', 'max_features']\n",
    "tunable_params_linreg = ['normalize', 'fit_intercept']\n",
    "tunable_params_logreg = ['penalty', 'dual', 'tol', 'C', 'fit_intercept', 'solver', 'max_iter']\n",
    "\n",
    "# tunable_params_rf = ['max_depth'] \n",
    "# identify some good hyperparameters by doing a random search:\n",
    "tuned_model = shap_env.tune_model(tunable_params=tunable_params_rf, folds=5, n_iter=100) \n",
    "\n",
    "# now we need to train the model:\n",
    "model, report = shap_env.train_test()\n",
    "\n",
    "# models can be saved and loaded like this (it uses the previously set model_dir, but you can\n",
    "# also set a new one as an arugment if you wish!)\n",
    "shap_env.save_model()\n",
    "model = shap_env.load_model()"
   ]
  },
  {
   "cell_type": "code",
   "execution_count": 5,
   "metadata": {},
   "outputs": [
    {
     "name": "stdout",
     "output_type": "stream",
     "text": [
      "Running Shap Explainer using the same train/test split you used to train the model.\n"
     ]
    },
    {
     "name": "stderr",
     "output_type": "stream",
     "text": [
      "model_output = \"margin\" has been renamed to model_output = \"raw\"\n",
      "Setting feature_perturbation = \"tree_path_dependent\" because no background data was given.\n"
     ]
    },
    {
     "data": {
      "image/png": "[encoded data removed]",
      "text/plain": [
       "<Figure size 576x338.4 with 1 Axes>"
      ]
     },
     "metadata": {
      "needs_background": "light"
     },
     "output_type": "display_data"
    },
    {
     "data": {
      "image/png": "[encoded data removed]",
      "text/plain": [
       "<Figure size 576x338.4 with 2 Axes>"
      ]
     },
     "metadata": {
      "needs_background": "light"
     },
     "output_type": "display_data"
    },
    {
     "data": {
      "image/png": "[encoded data removed]",
      "text/plain": [
       "<Figure size 432x360 with 1 Axes>"
      ]
     },
     "metadata": {
      "needs_background": "light"
     },
     "output_type": "display_data"
    }
   ],
   "source": [
    "# now we have a trained model with reasonably good training parameters we can do some interpretation\n",
    "# this first bit creates and saves the output of the Shap explainer:\n",
    "explainer, shap_vals = shap_env.run_shap_explainer(modell=model)\n",
    "                                                   \n",
    "# to create plots (and automatrically save them to the output directory):\n",
    "shap_env.shap_plot(shap_vals=shap_vals, specific_var='mtf', interaction_var=None, classwise=False, class_ind=1)"
   ]
  },
  {
   "cell_type": "code",
   "execution_count": 6,
   "metadata": {},
   "outputs": [
    {
     "name": "stdout",
     "output_type": "stream",
     "text": [
      "Bootstrap number:  20\n"
     ]
    },
    {
     "data": {
      "image/png": "[encoded data removed]",
      "text/plain": [
       "<Figure size 504x720 with 1 Axes>"
      ]
     },
     "metadata": {
      "needs_background": "light"
     },
     "output_type": "display_data"
    },
    {
     "data": {
      "text/html": [
       "<div>\n",
       "<style scoped>\n",
       "    .dataframe tbody tr th:only-of-type {\n",
       "        vertical-align: middle;\n",
       "    }\n",
       "\n",
       "    .dataframe tbody tr th {\n",
       "        vertical-align: top;\n",
       "    }\n",
       "\n",
       "    .dataframe thead th {\n",
       "        text-align: right;\n",
       "    }\n",
       "</style>\n",
       "<table border=\"1\" class=\"dataframe\">\n",
       "  <thead>\n",
       "    <tr style=\"text-align: right;\">\n",
       "      <th></th>\n",
       "      <th>age</th>\n",
       "      <th>children</th>\n",
       "      <th>female</th>\n",
       "      <th>ftm</th>\n",
       "      <th>mtf</th>\n",
       "      <th>straight</th>\n",
       "      <th>gay</th>\n",
       "      <th>lesbian</th>\n",
       "    </tr>\n",
       "  </thead>\n",
       "  <tbody>\n",
       "    <tr>\n",
       "      <th>0</th>\n",
       "      <td>0.034316</td>\n",
       "      <td>0.021950</td>\n",
       "      <td>0.135441</td>\n",
       "      <td>0.0</td>\n",
       "      <td>0.002434</td>\n",
       "      <td>0.061211</td>\n",
       "      <td>0.058261</td>\n",
       "      <td>0.013392</td>\n",
       "    </tr>\n",
       "    <tr>\n",
       "      <th>1</th>\n",
       "      <td>0.000787</td>\n",
       "      <td>0.000497</td>\n",
       "      <td>0.000541</td>\n",
       "      <td>0.0</td>\n",
       "      <td>0.000038</td>\n",
       "      <td>0.000488</td>\n",
       "      <td>0.001158</td>\n",
       "      <td>0.000330</td>\n",
       "    </tr>\n",
       "  </tbody>\n",
       "</table>\n",
       "</div>"
      ],
      "text/plain": [
       "        age  children    female  ftm       mtf  straight       gay   lesbian\n",
       "0  0.034316  0.021950  0.135441  0.0  0.002434  0.061211  0.058261  0.013392\n",
       "1  0.000787  0.000497  0.000541  0.0  0.000038  0.000488  0.001158  0.000330"
      ]
     },
     "execution_count": 6,
     "metadata": {},
     "output_type": "execute_result"
    }
   ],
   "source": [
    "# finally, let's bootstrap over Shapley feature importances and get some C.I.s:\n",
    "shap_vals_bootstrap, results = shap_env.shap_bootstrap(modell=model, retrain=False, n_bootstraps=30, n_samples=50, class_ind=0)\n",
    "\n",
    "\n",
    "# N.B. these results don't look like much, because we are only using a small toy dataset\n",
    "results"
   ]
  }
 ],
 "metadata": {
  "kernelspec": {
   "display_name": "Python 3",
   "language": "python",
   "name": "python3"
  },
  "language_info": {
   "codemirror_mode": {
    "name": "ipython",
    "version": 3
   },
   "file_extension": ".py",
   "mimetype": "text/x-python",
   "name": "python",
   "nbconvert_exporter": "python",
   "pygments_lexer": "ipython3",
   "version": "3.7.6"
  }
 },
 "nbformat": 4,
 "nbformat_minor": 4
}
